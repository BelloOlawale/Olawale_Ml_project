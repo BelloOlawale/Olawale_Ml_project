{
 "cells": [
  {
   "cell_type": "code",
   "execution_count": null,
   "id": "56f82c71",
   "metadata": {},
   "outputs": [],
   "source": [
    "import sklearn\n",
    "from sklearn.model_"
   ]
  }
 ],
 "metadata": {
  "kernelspec": {
   "display_name": "fraud_venv",
   "language": "python",
   "name": "fraud_venv"
  },
  "language_info": {
   "name": "python",
   "version": "3.13.5"
  }
 },
 "nbformat": 4,
 "nbformat_minor": 5
}
